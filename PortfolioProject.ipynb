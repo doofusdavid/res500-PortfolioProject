{
 "cells": [
  {
   "cell_type": "code",
   "execution_count": 34,
   "metadata": {},
   "outputs": [],
   "source": [
    "import datetime\n",
    "import requests\n",
    "%matplotlib inline\n",
    "import matplotlib.pyplot as plt\n",
    "from matplotlib.dates import (YEARLY, DateFormatter,\n",
    "                              rrulewrapper, RRuleLocator, drange)\n",
    "plt.style.use('seaborn-whitegrid')\n",
    "import numpy as np\n",
    "import pandas as pd\n",
    "plt.rcParams['figure.figsize'] = (15.0, 10.0)\n"
   ]
  },
  {
   "cell_type": "markdown",
   "metadata": {},
   "source": [
    "## First we need to get the last three years data.\n",
    "This code will ensure that it's up to date"
   ]
  },
  {
   "cell_type": "code",
   "execution_count": 15,
   "metadata": {},
   "outputs": [],
   "source": [
    "today_epoch = (datetime.date.today() - datetime.timedelta(days=1)).strftime(\"%s\")\n",
    "threeyear_epoch = (datetime.date.today() - datetime.timedelta(days=(365*3))).strftime(\"%s\")\n"
   ]
  },
  {
   "cell_type": "markdown",
   "metadata": {},
   "source": [
    "## Download that 3 year data"
   ]
  },
  {
   "cell_type": "code",
   "execution_count": 14,
   "metadata": {},
   "outputs": [],
   "source": [
    "data_url = \"https://query1.finance.yahoo.com/v7/finance/download/MSFT?period1=%s&period2=%s&interval=1d&events=history\" % (threeyear_epoch,today_epoch)\n",
    "req = requests.get(data_url)\n",
    "url_content = req.content\n",
    "csv_file = open('msft-3-year.csv', 'wb')\n",
    "\n",
    "csv_file.write(url_content)\n",
    "csv_file.close()"
   ]
  },
  {
   "cell_type": "code",
   "execution_count": 24,
   "metadata": {},
   "outputs": [
    {
     "data": {
      "text/html": [
       "<div>\n",
       "<style scoped>\n",
       "    .dataframe tbody tr th:only-of-type {\n",
       "        vertical-align: middle;\n",
       "    }\n",
       "\n",
       "    .dataframe tbody tr th {\n",
       "        vertical-align: top;\n",
       "    }\n",
       "\n",
       "    .dataframe thead th {\n",
       "        text-align: right;\n",
       "    }\n",
       "</style>\n",
       "<table border=\"1\" class=\"dataframe\">\n",
       "  <thead>\n",
       "    <tr style=\"text-align: right;\">\n",
       "      <th></th>\n",
       "      <th>Date</th>\n",
       "      <th>Open</th>\n",
       "      <th>High</th>\n",
       "      <th>Low</th>\n",
       "      <th>Close</th>\n",
       "      <th>Adj Close</th>\n",
       "      <th>Volume</th>\n",
       "    </tr>\n",
       "  </thead>\n",
       "  <tbody>\n",
       "    <tr>\n",
       "      <th>0</th>\n",
       "      <td>2017-08-15</td>\n",
       "      <td>73.589996</td>\n",
       "      <td>73.589996</td>\n",
       "      <td>73.040001</td>\n",
       "      <td>73.220001</td>\n",
       "      <td>70.183228</td>\n",
       "      <td>19181400</td>\n",
       "    </tr>\n",
       "    <tr>\n",
       "      <th>1</th>\n",
       "      <td>2017-08-16</td>\n",
       "      <td>73.339996</td>\n",
       "      <td>74.099998</td>\n",
       "      <td>73.169998</td>\n",
       "      <td>73.650002</td>\n",
       "      <td>70.595390</td>\n",
       "      <td>18150400</td>\n",
       "    </tr>\n",
       "    <tr>\n",
       "      <th>2</th>\n",
       "      <td>2017-08-17</td>\n",
       "      <td>73.580002</td>\n",
       "      <td>73.870003</td>\n",
       "      <td>72.400002</td>\n",
       "      <td>72.400002</td>\n",
       "      <td>69.397232</td>\n",
       "      <td>22977500</td>\n",
       "    </tr>\n",
       "    <tr>\n",
       "      <th>3</th>\n",
       "      <td>2017-08-18</td>\n",
       "      <td>72.269997</td>\n",
       "      <td>72.839996</td>\n",
       "      <td>71.930000</td>\n",
       "      <td>72.489998</td>\n",
       "      <td>69.483498</td>\n",
       "      <td>18761500</td>\n",
       "    </tr>\n",
       "    <tr>\n",
       "      <th>4</th>\n",
       "      <td>2017-08-21</td>\n",
       "      <td>72.470001</td>\n",
       "      <td>72.480003</td>\n",
       "      <td>71.699997</td>\n",
       "      <td>72.150002</td>\n",
       "      <td>69.157600</td>\n",
       "      <td>17734800</td>\n",
       "    </tr>\n",
       "  </tbody>\n",
       "</table>\n",
       "</div>"
      ],
      "text/plain": [
       "         Date       Open       High        Low      Close  Adj Close    Volume\n",
       "0  2017-08-15  73.589996  73.589996  73.040001  73.220001  70.183228  19181400\n",
       "1  2017-08-16  73.339996  74.099998  73.169998  73.650002  70.595390  18150400\n",
       "2  2017-08-17  73.580002  73.870003  72.400002  72.400002  69.397232  22977500\n",
       "3  2017-08-18  72.269997  72.839996  71.930000  72.489998  69.483498  18761500\n",
       "4  2017-08-21  72.470001  72.480003  71.699997  72.150002  69.157600  17734800"
      ]
     },
     "execution_count": 24,
     "metadata": {},
     "output_type": "execute_result"
    }
   ],
   "source": [
    "df = pd.read_csv('msft-3-year.csv')\n",
    "df.head()"
   ]
  },
  {
   "cell_type": "code",
   "execution_count": 23,
   "metadata": {},
   "outputs": [
    {
     "data": {
      "text/html": [
       "<div>\n",
       "<style scoped>\n",
       "    .dataframe tbody tr th:only-of-type {\n",
       "        vertical-align: middle;\n",
       "    }\n",
       "\n",
       "    .dataframe tbody tr th {\n",
       "        vertical-align: top;\n",
       "    }\n",
       "\n",
       "    .dataframe thead th {\n",
       "        text-align: right;\n",
       "    }\n",
       "</style>\n",
       "<table border=\"1\" class=\"dataframe\">\n",
       "  <thead>\n",
       "    <tr style=\"text-align: right;\">\n",
       "      <th></th>\n",
       "      <th>Open</th>\n",
       "      <th>High</th>\n",
       "      <th>Low</th>\n",
       "      <th>Close</th>\n",
       "      <th>Adj Close</th>\n",
       "      <th>Volume</th>\n",
       "    </tr>\n",
       "  </thead>\n",
       "  <tbody>\n",
       "    <tr>\n",
       "      <th>count</th>\n",
       "      <td>754.000000</td>\n",
       "      <td>754.000000</td>\n",
       "      <td>754.000000</td>\n",
       "      <td>754.000000</td>\n",
       "      <td>754.000000</td>\n",
       "      <td>7.540000e+02</td>\n",
       "    </tr>\n",
       "    <tr>\n",
       "      <th>mean</th>\n",
       "      <td>124.244271</td>\n",
       "      <td>125.476724</td>\n",
       "      <td>122.896486</td>\n",
       "      <td>124.271433</td>\n",
       "      <td>122.336732</td>\n",
       "      <td>3.003948e+07</td>\n",
       "    </tr>\n",
       "    <tr>\n",
       "      <th>std</th>\n",
       "      <td>35.504328</td>\n",
       "      <td>36.024890</td>\n",
       "      <td>34.952636</td>\n",
       "      <td>35.558417</td>\n",
       "      <td>36.549969</td>\n",
       "      <td>1.461961e+07</td>\n",
       "    </tr>\n",
       "    <tr>\n",
       "      <th>min</th>\n",
       "      <td>72.250000</td>\n",
       "      <td>72.480003</td>\n",
       "      <td>71.699997</td>\n",
       "      <td>72.150002</td>\n",
       "      <td>69.157600</td>\n",
       "      <td>7.425600e+06</td>\n",
       "    </tr>\n",
       "    <tr>\n",
       "      <th>25%</th>\n",
       "      <td>97.060000</td>\n",
       "      <td>97.877503</td>\n",
       "      <td>96.110001</td>\n",
       "      <td>97.192502</td>\n",
       "      <td>94.253317</td>\n",
       "      <td>2.056220e+07</td>\n",
       "    </tr>\n",
       "    <tr>\n",
       "      <th>50%</th>\n",
       "      <td>112.454998</td>\n",
       "      <td>113.285000</td>\n",
       "      <td>111.574997</td>\n",
       "      <td>112.345001</td>\n",
       "      <td>110.328942</td>\n",
       "      <td>2.611850e+07</td>\n",
       "    </tr>\n",
       "    <tr>\n",
       "      <th>75%</th>\n",
       "      <td>144.342495</td>\n",
       "      <td>145.997501</td>\n",
       "      <td>142.924999</td>\n",
       "      <td>144.242497</td>\n",
       "      <td>142.963600</td>\n",
       "      <td>3.438745e+07</td>\n",
       "    </tr>\n",
       "    <tr>\n",
       "      <th>max</th>\n",
       "      <td>216.330002</td>\n",
       "      <td>217.639999</td>\n",
       "      <td>211.570007</td>\n",
       "      <td>216.539993</td>\n",
       "      <td>216.539993</td>\n",
       "      <td>1.112421e+08</td>\n",
       "    </tr>\n",
       "  </tbody>\n",
       "</table>\n",
       "</div>"
      ],
      "text/plain": [
       "             Open        High         Low       Close   Adj Close  \\\n",
       "count  754.000000  754.000000  754.000000  754.000000  754.000000   \n",
       "mean   124.244271  125.476724  122.896486  124.271433  122.336732   \n",
       "std     35.504328   36.024890   34.952636   35.558417   36.549969   \n",
       "min     72.250000   72.480003   71.699997   72.150002   69.157600   \n",
       "25%     97.060000   97.877503   96.110001   97.192502   94.253317   \n",
       "50%    112.454998  113.285000  111.574997  112.345001  110.328942   \n",
       "75%    144.342495  145.997501  142.924999  144.242497  142.963600   \n",
       "max    216.330002  217.639999  211.570007  216.539993  216.539993   \n",
       "\n",
       "             Volume  \n",
       "count  7.540000e+02  \n",
       "mean   3.003948e+07  \n",
       "std    1.461961e+07  \n",
       "min    7.425600e+06  \n",
       "25%    2.056220e+07  \n",
       "50%    2.611850e+07  \n",
       "75%    3.438745e+07  \n",
       "max    1.112421e+08  "
      ]
     },
     "execution_count": 23,
     "metadata": {},
     "output_type": "execute_result"
    }
   ],
   "source": [
    "df.describe()"
   ]
  },
  {
   "cell_type": "code",
   "execution_count": 35,
   "metadata": {},
   "outputs": [
    {
     "data": {
      "image/png": "[encoded data removed]",
      "text/plain": [
       "<Figure size 1080x720 with 1 Axes>"
      ]
     },
     "metadata": {},
     "output_type": "display_data"
    }
   ],
   "source": [
    "fig, ax = plt.subplots()\n",
    "rule = rrulewrapper(YEARLY, interval=1)\n",
    "loc = RRuleLocator(rule)\n",
    "formatter = DateFormatter('%m/%d/%y')\n",
    "plt.plot_date(df[\"Date\"], df[\"Adj Close\"])\n",
    "ax.xaxis.set_major_locator(loc)\n",
    "ax.xaxis.set_major_formatter(formatter)"
   ]
  },
  {
   "cell_type": "code",
   "execution_count": null,
   "metadata": {},
   "outputs": [],
   "source": []
  }
 ],
 "metadata": {
  "kernelspec": {
   "display_name": "Python 3",
   "language": "python",
   "name": "python3"
  },
  "language_info": {
   "codemirror_mode": {
    "name": "ipython",
    "version": 3
   },
   "file_extension": ".py",
   "mimetype": "text/x-python",
   "name": "python",
   "nbconvert_exporter": "python",
   "pygments_lexer": "ipython3",
   "version": "3.7.4"
  }
 },
 "nbformat": 4,
 "nbformat_minor": 4
}
